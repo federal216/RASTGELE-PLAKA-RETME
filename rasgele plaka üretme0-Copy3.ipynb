{
 "cells": [
  {
   "cell_type": "code",
   "execution_count": 30,
   "metadata": {},
   "outputs": [],
   "source": [
    "\n",
    "# RASTGELE ARAÇ PLAKASI OLUŞTURMA KOMUTU ( TÜRKİYE İÇİN)\n",
    "\n",
    "import random\n",
    "import re\n",
    "import string\n",
    "def rastgele_plaka_verme(sehir, harfler, sayi):\n",
    "    # sehir plakasi için sayi verme\n",
    "    sehir = random.randint(1, 81)\n",
    "    \n",
    "    \n",
    "    #rastgele 2 harf verme\n",
    "    alfabe= 'ABCDEFGHIJKLMNOPRSTUVYZ'\n",
    "    harf1 = random.choice(alfabe)\n",
    "    harf2 = random.choice(alfabe)\n",
    "    harfler = harf1 + harf2\n",
    "    \n",
    "    # 1 den 999 a kadar sayi verme\n",
    "    sayi = random.randint(1, 999)\n",
    "    return sehir, harfler, sayi\n",
    "   "
   ]
  },
  {
   "cell_type": "code",
   "execution_count": 33,
   "metadata": {},
   "outputs": [
    {
     "data": {
      "text/plain": [
       "(7, 'BB', 692)"
      ]
     },
     "execution_count": 33,
     "metadata": {},
     "output_type": "execute_result"
    }
   ],
   "source": [
    "rastgele_plaka_verme('sehir', 'harfler', 'sayi')"
   ]
  }
 ],
 "metadata": {
  "kernelspec": {
   "display_name": "Python 3",
   "language": "python",
   "name": "python3"
  },
  "language_info": {
   "codemirror_mode": {
    "name": "ipython",
    "version": 3
   },
   "file_extension": ".py",
   "mimetype": "text/x-python",
   "name": "python",
   "nbconvert_exporter": "python",
   "pygments_lexer": "ipython3",
   "version": "3.8.5"
  }
 },
 "nbformat": 4,
 "nbformat_minor": 4
}
